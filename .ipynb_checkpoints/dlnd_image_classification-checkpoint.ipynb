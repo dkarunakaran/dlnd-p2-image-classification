{
 "cells": [
  {
   "cell_type": "markdown",
   "metadata": {
    "collapsed": true
   },
   "source": [
    "# Image Classification\n",
    "In this project, you'll classify images from the [CIFAR-10 dataset](https://www.cs.toronto.edu/~kriz/cifar.html).  The dataset consists of airplanes, dogs, cats, and other objects. You'll preprocess the images, then train a convolutional neural network on all the samples. The images need to be normalized and the labels need to be one-hot encoded.  You'll get to apply what you learned and build a convolutional, max pooling, dropout, and fully connected layers.  At the end, you'll get to see your neural network's predictions on the sample images.\n",
    "## Get the Data\n",
    "Run the following cell to download the [CIFAR-10 dataset for python](https://www.cs.toronto.edu/~kriz/cifar-10-python.tar.gz)."
   ]
  },
  {
   "cell_type": "code",
   "execution_count": 86,
   "metadata": {
    "collapsed": false
   },
   "outputs": [
    {
     "name": "stdout",
     "output_type": "stream",
     "text": [
      "All files found!\n"
     ]
    }
   ],
   "source": [
    "\"\"\"\n",
    "DON'T MODIFY ANYTHING IN THIS CELL THAT IS BELOW THIS LINE\n",
    "\"\"\"\n",
    "from urllib.request import urlretrieve\n",
    "from os.path import isfile, isdir\n",
    "from tqdm import tqdm\n",
    "import problem_unittests as tests\n",
    "import tarfile\n",
    "\n",
    "cifar10_dataset_folder_path = 'cifar-10-batches-py'\n",
    "\n",
    "# Use Floyd's cifar-10 dataset if present\n",
    "floyd_cifar10_location = '/input/cifar-10/python.tar.gz'\n",
    "if isfile(floyd_cifar10_location):\n",
    "    tar_gz_path = floyd_cifar10_location\n",
    "else:\n",
    "    tar_gz_path = 'cifar-10-python.tar.gz'\n",
    "\n",
    "class DLProgress(tqdm):\n",
    "    last_block = 0\n",
    "\n",
    "    def hook(self, block_num=1, block_size=1, total_size=None):\n",
    "        self.total = total_size\n",
    "        self.update((block_num - self.last_block) * block_size)\n",
    "        self.last_block = block_num\n",
    "\n",
    "if not isfile(tar_gz_path):\n",
    "    with DLProgress(unit='B', unit_scale=True, miniters=1, desc='CIFAR-10 Dataset') as pbar:\n",
    "        urlretrieve(\n",
    "            'https://www.cs.toronto.edu/~kriz/cifar-10-python.tar.gz',\n",
    "            tar_gz_path,\n",
    "            pbar.hook)\n",
    "\n",
    "if not isdir(cifar10_dataset_folder_path):\n",
    "    with tarfile.open(tar_gz_path) as tar:\n",
    "        tar.extractall()\n",
    "        tar.close()\n",
    "\n",
    "\n",
    "tests.test_folder_path(cifar10_dataset_folder_path)"
   ]
  },
  {
   "cell_type": "markdown",
   "metadata": {},
   "source": [
    "## Explore the Data\n",
    "The dataset is broken into batches to prevent your machine from running out of memory.  The CIFAR-10 dataset consists of 5 batches, named `data_batch_1`, `data_batch_2`, etc.. Each batch contains the labels and images that are one of the following:\n",
    "* airplane\n",
    "* automobile\n",
    "* bird\n",
    "* cat\n",
    "* deer\n",
    "* dog\n",
    "* frog\n",
    "* horse\n",
    "* ship\n",
    "* truck\n",
    "\n",
    "Understanding a dataset is part of making predictions on the data.  Play around with the code cell below by changing the `batch_id` and `sample_id`. The `batch_id` is the id for a batch (1-5). The `sample_id` is the id for a image and label pair in the batch.\n",
    "\n",
    "Ask yourself \"What are all possible labels?\", \"What is the range of values for the image data?\", \"Are the labels in order or random?\".  Answers to questions like these will help you preprocess the data and end up with better predictions."
   ]
  },
  {
   "cell_type": "code",
   "execution_count": 87,
   "metadata": {
    "collapsed": false
   },
   "outputs": [
    {
     "name": "stdout",
     "output_type": "stream",
     "text": [
      "\n",
      "Stats of batch 1:\n",
      "Samples: 10000\n",
      "Label Counts: {0: 1005, 1: 974, 2: 1032, 3: 1016, 4: 999, 5: 937, 6: 1030, 7: 1001, 8: 1025, 9: 981}\n",
      "First 20 Labels: [6, 9, 9, 4, 1, 1, 2, 7, 8, 3, 4, 7, 7, 2, 9, 9, 9, 3, 2, 6]\n",
      "\n",
      "Example of Image 5:\n",
      "Image - Min Value: 0 Max Value: 252\n",
      "Image - Shape: (32, 32, 3)\n",
      "Label - Label Id: 1 Name: automobile\n"
     ]
    },
    {
     "data": {
      "image/png": "[encoded data removed]",
      "text/plain": [
       "<matplotlib.figure.Figure at 0x117e3b748>"
      ]
     },
     "metadata": {
      "image/png": {
       "height": 250,
       "width": 253
      }
     },
     "output_type": "display_data"
    }
   ],
   "source": [
    "%matplotlib inline\n",
    "%config InlineBackend.figure_format = 'retina'\n",
    "\n",
    "import helper\n",
    "import numpy as np\n",
    "\n",
    "# Explore the dataset\n",
    "batch_id = 1\n",
    "sample_id = 5\n",
    "helper.display_stats(cifar10_dataset_folder_path, batch_id, sample_id)"
   ]
  },
  {
   "cell_type": "markdown",
   "metadata": {},
   "source": [
    "## Implement Preprocess Functions\n",
    "### Normalize\n",
    "In the cell below, implement the `normalize` function to take in image data, `x`, and return it as a normalized Numpy array. The values should be in the range of 0 to 1, inclusive.  The return object should be the same shape as `x`."
   ]
  },
  {
   "cell_type": "code",
   "execution_count": 88,
   "metadata": {
    "collapsed": false
   },
   "outputs": [
    {
     "name": "stdout",
     "output_type": "stream",
     "text": [
      "Tests Passed\n"
     ]
    }
   ],
   "source": [
    "def normalize(x):\n",
    "    \"\"\"\n",
    "    Normalize a list of sample image data in the range of 0 to 1\n",
    "    : x: List of image data.  The image shape is (32, 32, 3)\n",
    "    : return: Numpy array of normalize data\n",
    "    \"\"\"\n",
    "    # TODO: Implement Function\n",
    "    #Normalization equation\n",
    "    #zi=xi−min(x)/max(x)−min(x)\n",
    "    normalized = (x-np.min(x))/(np.max(x)-np.min(x))\n",
    "    return normalized\n",
    "\n",
    "\n",
    "\"\"\"\n",
    "DON'T MODIFY ANYTHING IN THIS CELL THAT IS BELOW THIS LINE\n",
    "\"\"\"\n",
    "tests.test_normalize(normalize)"
   ]
  },
  {
   "cell_type": "markdown",
   "metadata": {},
   "source": [
    "### One-hot encode\n",
    "Just like the previous code cell, you'll be implementing a function for preprocessing.  This time, you'll implement the `one_hot_encode` function. The input, `x`, are a list of labels.  Implement the function to return the list of labels as One-Hot encoded Numpy array.  The possible values for labels are 0 to 9. The one-hot encoding function should return the same encoding for each value between each call to `one_hot_encode`.  Make sure to save the map of encodings outside the function.\n",
    "\n",
    "Hint: Don't reinvent the wheel."
   ]
  },
  {
   "cell_type": "code",
   "execution_count": 89,
   "metadata": {
    "collapsed": false
   },
   "outputs": [
    {
     "name": "stdout",
     "output_type": "stream",
     "text": [
      "Tests Passed\n"
     ]
    }
   ],
   "source": [
    "def one_hot_encode(x):\n",
    "    \"\"\"\n",
    "    One hot encode a list of sample labels. Return a one-hot encoded vector for each label.\n",
    "    : x: List of sample Labels\n",
    "    : return: Numpy array of one-hot encoded labels\n",
    "    \"\"\"\n",
    "    # TODO: Implement Function\n",
    "    return np.eye(10)[x]\n",
    "\n",
    "\n",
    "\"\"\"\n",
    "DON'T MODIFY ANYTHING IN THIS CELL THAT IS BELOW THIS LINE\n",
    "\"\"\"\n",
    "tests.test_one_hot_encode(one_hot_encode)"
   ]
  },
  {
   "cell_type": "markdown",
   "metadata": {},
   "source": [
    "### Randomize Data\n",
    "As you saw from exploring the data above, the order of the samples are randomized.  It doesn't hurt to randomize it again, but you don't need to for this dataset."
   ]
  },
  {
   "cell_type": "markdown",
   "metadata": {},
   "source": [
    "## Preprocess all the data and save it\n",
    "Running the code cell below will preprocess all the CIFAR-10 data and save it to file. The code below also uses 10% of the training data for validation."
   ]
  },
  {
   "cell_type": "code",
   "execution_count": 90,
   "metadata": {
    "collapsed": false
   },
   "outputs": [],
   "source": [
    "\"\"\"\n",
    "DON'T MODIFY ANYTHING IN THIS CELL\n",
    "\"\"\"\n",
    "# Preprocess Training, Validation, and Testing Data\n",
    "helper.preprocess_and_save_data(cifar10_dataset_folder_path, normalize, one_hot_encode)"
   ]
  },
  {
   "cell_type": "markdown",
   "metadata": {},
   "source": [
    "# Check Point\n",
    "This is your first checkpoint.  If you ever decide to come back to this notebook or have to restart the notebook, you can start from here.  The preprocessed data has been saved to disk."
   ]
  },
  {
   "cell_type": "code",
   "execution_count": 112,
   "metadata": {
    "collapsed": true
   },
   "outputs": [],
   "source": [
    "\"\"\"\n",
    "DON'T MODIFY ANYTHING IN THIS CELL\n",
    "\"\"\"\n",
    "import pickle\n",
    "import problem_unittests as tests\n",
    "import helper\n",
    "\n",
    "# Load the Preprocessed Validation data\n",
    "valid_features, valid_labels = pickle.load(open('preprocess_validation.p', mode='rb'))"
   ]
  },
  {
   "cell_type": "markdown",
   "metadata": {},
   "source": [
    "## Build the network\n",
    "For the neural network, you'll build each layer into a function.  Most of the code you've seen has been outside of functions. To test your code more thoroughly, we require that you put each layer in a function.  This allows us to give you better feedback and test for simple mistakes using our unittests before you submit your project.\n",
    "\n",
    ">**Note:** If you're finding it hard to dedicate enough time for this course each week, we've provided a small shortcut to this part of the project. In the next couple of problems, you'll have the option to use classes from the [TensorFlow Layers](https://www.tensorflow.org/api_docs/python/tf/layers) or [TensorFlow Layers (contrib)](https://www.tensorflow.org/api_guides/python/contrib.layers) packages to build each layer, except the layers you build in the \"Convolutional and Max Pooling Layer\" section.  TF Layers is similar to Keras's and TFLearn's abstraction to layers, so it's easy to pickup.\n",
    "\n",
    ">However, if you would like to get the most out of this course, try to solve all the problems _without_ using anything from the TF Layers packages. You **can** still use classes from other packages that happen to have the same name as ones you find in TF Layers! For example, instead of using the TF Layers version of the `conv2d` class, [tf.layers.conv2d](https://www.tensorflow.org/api_docs/python/tf/layers/conv2d), you would want to use the TF Neural Network version of `conv2d`, [tf.nn.conv2d](https://www.tensorflow.org/api_docs/python/tf/nn/conv2d). \n",
    "\n",
    "Let's begin!\n",
    "\n",
    "### Input\n",
    "The neural network needs to read the image data, one-hot encoded labels, and dropout keep probability. Implement the following functions\n",
    "* Implement `neural_net_image_input`\n",
    " * Return a [TF Placeholder](https://www.tensorflow.org/api_docs/python/tf/placeholder)\n",
    " * Set the shape using `image_shape` with batch size set to `None`.\n",
    " * Name the TensorFlow placeholder \"x\" using the TensorFlow `name` parameter in the [TF Placeholder](https://www.tensorflow.org/api_docs/python/tf/placeholder).\n",
    "* Implement `neural_net_label_input`\n",
    " * Return a [TF Placeholder](https://www.tensorflow.org/api_docs/python/tf/placeholder)\n",
    " * Set the shape using `n_classes` with batch size set to `None`.\n",
    " * Name the TensorFlow placeholder \"y\" using the TensorFlow `name` parameter in the [TF Placeholder](https://www.tensorflow.org/api_docs/python/tf/placeholder).\n",
    "* Implement `neural_net_keep_prob_input`\n",
    " * Return a [TF Placeholder](https://www.tensorflow.org/api_docs/python/tf/placeholder) for dropout keep probability.\n",
    " * Name the TensorFlow placeholder \"keep_prob\" using the TensorFlow `name` parameter in the [TF Placeholder](https://www.tensorflow.org/api_docs/python/tf/placeholder).\n",
    "\n",
    "These names will be used at the end of the project to load your saved model.\n",
    "\n",
    "Note: `None` for shapes in TensorFlow allow for a dynamic size."
   ]
  },
  {
   "cell_type": "code",
   "execution_count": 113,
   "metadata": {
    "collapsed": false
   },
   "outputs": [
    {
     "name": "stdout",
     "output_type": "stream",
     "text": [
      "Image Input Tests Passed.\n",
      "Label Input Tests Passed.\n",
      "Keep Prob Tests Passed.\n"
     ]
    }
   ],
   "source": [
    "import tensorflow as tf\n",
    "\n",
    "def neural_net_image_input(image_shape):\n",
    "    \"\"\"\n",
    "    Return a Tensor for a bach of image input\n",
    "    : image_shape: Shape of the images\n",
    "    : return: Tensor for image input.\n",
    "    \"\"\"\n",
    "    # TODO: Implement Function\n",
    "    return tf.placeholder(tf.float32, shape=(None, *image_shape), name='x')\n",
    "\n",
    "\n",
    "def neural_net_label_input(n_classes):\n",
    "    \"\"\"\n",
    "    Return a Tensor for a batch of label input\n",
    "    : n_classes: Number of classes\n",
    "    : return: Tensor for label input.\n",
    "    \"\"\"\n",
    "    # TODO: Implement Function\n",
    "    return tf.placeholder(tf.float32, shape=(None, n_classes), name='y')\n",
    "\n",
    "\n",
    "def neural_net_keep_prob_input():\n",
    "    \"\"\"\n",
    "    Return a Tensor for keep probability\n",
    "    : return: Tensor for keep probability.\n",
    "    \"\"\"\n",
    "    # TODO: Implement Function\n",
    "    return tf.placeholder(tf.float32, name='keep_prob')\n",
    "\n",
    "\n",
    "\"\"\"\n",
    "DON'T MODIFY ANYTHING IN THIS CELL THAT IS BELOW THIS LINE\n",
    "\"\"\"\n",
    "tf.reset_default_graph()\n",
    "tests.test_nn_image_inputs(neural_net_image_input)\n",
    "tests.test_nn_label_inputs(neural_net_label_input)\n",
    "tests.test_nn_keep_prob_inputs(neural_net_keep_prob_input)"
   ]
  },
  {
   "cell_type": "markdown",
   "metadata": {},
   "source": [
    "### Convolution and Max Pooling Layer\n",
    "Convolution layers have a lot of success with images. For this code cell, you should implement the function `conv2d_maxpool` to apply convolution then max pooling:\n",
    "* Create the weight and bias using `conv_ksize`, `conv_num_outputs` and the shape of `x_tensor`.\n",
    "* Apply a convolution to `x_tensor` using weight and `conv_strides`.\n",
    " * We recommend you use same padding, but you're welcome to use any padding.\n",
    "* Add bias\n",
    "* Add a nonlinear activation to the convolution.\n",
    "* Apply Max Pooling using `pool_ksize` and `pool_strides`.\n",
    " * We recommend you use same padding, but you're welcome to use any padding.\n",
    "\n",
    "**Note:** You **can't** use [TensorFlow Layers](https://www.tensorflow.org/api_docs/python/tf/layers) or [TensorFlow Layers (contrib)](https://www.tensorflow.org/api_guides/python/contrib.layers) for **this** layer, but you can still use TensorFlow's [Neural Network](https://www.tensorflow.org/api_docs/python/tf/nn) package. You may still use the shortcut option for all the **other** layers."
   ]
  },
  {
   "cell_type": "code",
   "execution_count": 114,
   "metadata": {
    "collapsed": false
   },
   "outputs": [
    {
     "name": "stdout",
     "output_type": "stream",
     "text": [
      "Tests Passed\n"
     ]
    }
   ],
   "source": [
    "def conv2d_maxpool(x_tensor, conv_num_outputs, conv_ksize, conv_strides, pool_ksize, pool_strides):\n",
    "    \"\"\"\n",
    "    Apply convolution then max pooling to x_tensor\n",
    "    :param x_tensor: TensorFlow Tensor\n",
    "    :param conv_num_outputs: Number of outputs for the convolutional layer\n",
    "    :param conv_ksize: kernal size 2-D Tuple for the convolutional layer\n",
    "    :param conv_strides: Stride 2-D Tuple for convolution\n",
    "    :param pool_ksize: kernal size 2-D Tuple for pool\n",
    "    :param pool_strides: Stride 2-D Tuple for pool\n",
    "    : return: A tensor that represents convolution and max pooling of x_tensor\n",
    "    \"\"\"\n",
    "    \n",
    "    \n",
    "    #Define weight\n",
    "    weight_shape = [*conv_ksize, int(x_tensor.shape[3]), conv_num_outputs]\n",
    "    w = tf.Variable(tf.random_normal(weight_shape, stddev=0.1))\n",
    "    \n",
    "    #Define bias\n",
    "    b = tf.Variable(tf.zeros(conv_num_outputs))\n",
    "    \n",
    "    #Apply convolution\n",
    "    x = tf.nn.conv2d(x_tensor, w, strides=[1, *conv_strides, 1], padding='SAME')\n",
    "    \n",
    "    #Apply bias\n",
    "    x = tf.nn.bias_add(x, b)\n",
    "    \n",
    "    #Apply RELU\n",
    "    x = tf.nn.relu(x)\n",
    "    \n",
    "    #Apply Max pool\n",
    "    x = tf.nn.max_pool(x, [1, *pool_ksize, 1], [1, *pool_strides, 1], padding='SAME')\n",
    "    return x\n",
    "\n",
    "\n",
    "\"\"\"\n",
    "DON'T MODIFY ANYTHING IN THIS CELL THAT IS BELOW THIS LINE\n",
    "\"\"\"\n",
    "tests.test_con_pool(conv2d_maxpool)"
   ]
  },
  {
   "cell_type": "markdown",
   "metadata": {},
   "source": [
    "### Flatten Layer\n",
    "Implement the `flatten` function to change the dimension of `x_tensor` from a 4-D tensor to a 2-D tensor.  The output should be the shape (*Batch Size*, *Flattened Image Size*). Shortcut option: you can use classes from the [TensorFlow Layers](https://www.tensorflow.org/api_docs/python/tf/layers) or [TensorFlow Layers (contrib)](https://www.tensorflow.org/api_guides/python/contrib.layers) packages for this layer. For more of a challenge, only use other TensorFlow packages."
   ]
  },
  {
   "cell_type": "code",
   "execution_count": 115,
   "metadata": {
    "collapsed": false
   },
   "outputs": [
    {
     "name": "stdout",
     "output_type": "stream",
     "text": [
      "Tests Passed\n"
     ]
    }
   ],
   "source": [
    "def flatten(x_tensor):\n",
    "    \"\"\"\n",
    "    Flatten x_tensor to (Batch Size, Flattened Image Size)\n",
    "    : x_tensor: A tensor of size (Batch Size, ...), where ... are the image dimensions.\n",
    "    : return: A tensor of size (Batch Size, Flattened Image Size).\n",
    "    \"\"\"\n",
    "    # TODO: Implement Function\n",
    "    batch_size, *fltn_img_size = x_tensor.get_shape().as_list()\n",
    "    img_size = fltn_img_size[0] * fltn_img_size[1] * fltn_img_size[2]\n",
    "    tensor = tf.reshape(x_tensor, [-1, img_size])\n",
    "    return tensor\n",
    "\n",
    "\n",
    "\"\"\"\n",
    "DON'T MODIFY ANYTHING IN THIS CELL THAT IS BELOW THIS LINE\n",
    "\"\"\"\n",
    "tests.test_flatten(flatten)"
   ]
  },
  {
   "cell_type": "markdown",
   "metadata": {},
   "source": [
    "### Fully-Connected Layer\n",
    "Implement the `fully_conn` function to apply a fully connected layer to `x_tensor` with the shape (*Batch Size*, *num_outputs*). Shortcut option: you can use classes from the [TensorFlow Layers](https://www.tensorflow.org/api_docs/python/tf/layers) or [TensorFlow Layers (contrib)](https://www.tensorflow.org/api_guides/python/contrib.layers) packages for this layer. For more of a challenge, only use other TensorFlow packages."
   ]
  },
  {
   "cell_type": "code",
   "execution_count": 116,
   "metadata": {
    "collapsed": false
   },
   "outputs": [
    {
     "name": "stdout",
     "output_type": "stream",
     "text": [
      "Tests Passed\n"
     ]
    }
   ],
   "source": [
    "def fully_conn(x_tensor, num_outputs):\n",
    "    \"\"\"\n",
    "    Apply a fully connected layer to x_tensor using weight and bias\n",
    "    : x_tensor: A 2-D tensor where the first dimension is batch size.\n",
    "    : num_outputs: The number of output that the new tensor should be.\n",
    "    : return: A 2-D tensor where the second dimension is num_outputs.\n",
    "    \"\"\"\n",
    "    # TODO: Implement Function\n",
    "    #weights\n",
    "    w_shape = (int(x_tensor.get_shape().as_list()[1]), num_outputs)\n",
    "    weights = tf.Variable(tf.random_normal(w_shape, stddev=0.1))\n",
    "    \n",
    "    #bias\n",
    "    bias = tf.Variable(tf.zeros(num_outputs))\n",
    "    x = tf.add(tf.matmul(x_tensor, weights), bias)\n",
    "    output = tf.nn.relu(x)\n",
    "    return output\n",
    "    \n",
    "\n",
    "\n",
    "\"\"\"\n",
    "DON'T MODIFY ANYTHING IN THIS CELL THAT IS BELOW THIS LINE\n",
    "\"\"\"\n",
    "tests.test_fully_conn(fully_conn)"
   ]
  },
  {
   "cell_type": "markdown",
   "metadata": {},
   "source": [
    "### Output Layer\n",
    "Implement the `output` function to apply a fully connected layer to `x_tensor` with the shape (*Batch Size*, *num_outputs*). Shortcut option: you can use classes from the [TensorFlow Layers](https://www.tensorflow.org/api_docs/python/tf/layers) or [TensorFlow Layers (contrib)](https://www.tensorflow.org/api_guides/python/contrib.layers) packages for this layer. For more of a challenge, only use other TensorFlow packages.\n",
    "\n",
    "**Note:** Activation, softmax, or cross entropy should **not** be applied to this."
   ]
  },
  {
   "cell_type": "code",
   "execution_count": 117,
   "metadata": {
    "collapsed": false
   },
   "outputs": [
    {
     "name": "stdout",
     "output_type": "stream",
     "text": [
      "Tests Passed\n"
     ]
    }
   ],
   "source": [
    "def output(x_tensor, num_outputs):\n",
    "    \"\"\"\n",
    "    Apply a output layer to x_tensor using weight and bias\n",
    "    : x_tensor: A 2-D tensor where the first dimension is batch size.\n",
    "    : num_outputs: The number of output that the new tensor should be.\n",
    "    : return: A 2-D tensor where the second dimension is num_outputs.\n",
    "    \"\"\"\n",
    "    # TODO: Implement Function\n",
    "    #weights\n",
    "    w_shape = (int(x_tensor.get_shape().as_list()[1]), num_outputs)\n",
    "    weights = tf.Variable(tf.random_normal(w_shape, stddev=0.1))\n",
    "    \n",
    "    #bias\n",
    "    bias = tf.Variable(tf.zeros(num_outputs))\n",
    "    x = tf.add(tf.matmul(x_tensor, weights), bias)\n",
    "    return x\n",
    "\n",
    "\n",
    "\"\"\"\n",
    "DON'T MODIFY ANYTHING IN THIS CELL THAT IS BELOW THIS LINE\n",
    "\"\"\"\n",
    "tests.test_output(output)"
   ]
  },
  {
   "cell_type": "markdown",
   "metadata": {},
   "source": [
    "### Create Convolutional Model\n",
    "Implement the function `conv_net` to create a convolutional neural network model. The function takes in a batch of images, `x`, and outputs logits.  Use the layers you created above to create this model:\n",
    "\n",
    "* Apply 1, 2, or 3 Convolution and Max Pool layers\n",
    "* Apply a Flatten Layer\n",
    "* Apply 1, 2, or 3 Fully Connected Layers\n",
    "* Apply an Output Layer\n",
    "* Return the output\n",
    "* Apply [TensorFlow's Dropout](https://www.tensorflow.org/api_docs/python/tf/nn/dropout) to one or more layers in the model using `keep_prob`. "
   ]
  },
  {
   "cell_type": "code",
   "execution_count": 118,
   "metadata": {
    "collapsed": false
   },
   "outputs": [
    {
     "name": "stdout",
     "output_type": "stream",
     "text": [
      "Neural Network Built!\n"
     ]
    }
   ],
   "source": [
    "def conv_net(x, keep_prob):\n",
    "    \"\"\"\n",
    "    Create a convolutional neural network model\n",
    "    : x: Placeholder tensor that holds image data.\n",
    "    : keep_prob: Placeholder tensor that hold dropout keep probability.\n",
    "    : return: Tensor that represents logits\n",
    "    \"\"\"\n",
    "    # TODO: Apply 1, 2, or 3 Convolution and Max Pool layers\n",
    "    x = conv2d_maxpool(x, 32, (3, 3), (1, 1), (2, 2), (2, 2))\n",
    "    x = conv2d_maxpool(x, 32, (3, 3), (2, 2), (2, 2), (2, 2))\n",
    "    x = conv2d_maxpool(x, 64, (3, 3), (1, 1), (2, 2), (2, 2))\n",
    "    \n",
    "\n",
    "    # TODO: Apply a Flatten Layer\n",
    "    # Function Definition from Above:\n",
    "    x = flatten(x)\n",
    "    \n",
    "\n",
    "    # TODO: Apply 1, 2, or 3 Fully Connected Layers\n",
    "    #    Play around with different number of outputs\n",
    "    # Function Definition from Above:\n",
    "    #   fully_conn(x_tensor, num_outputs)\n",
    "    x = fully_conn(x, 128)\n",
    "    x = tf.nn.dropout(x, keep_prob)\n",
    "    \n",
    "    \n",
    "    # TODO: Apply an Output Layer\n",
    "    #    Set this to the number of classes\n",
    "    # Function Definition from Above:\n",
    "    #   output(x_tensor, num_outputs)\n",
    "    result = output(x, 10)\n",
    "    \n",
    "    \n",
    "    # TODO: return output\n",
    "    return result\n",
    "\n",
    "\n",
    "\"\"\"\n",
    "DON'T MODIFY ANYTHING IN THIS CELL THAT IS BELOW THIS LINE\n",
    "\"\"\"\n",
    "\n",
    "##############################\n",
    "## Build the Neural Network ##\n",
    "##############################\n",
    "\n",
    "# Remove previous weights, bias, inputs, etc..\n",
    "tf.reset_default_graph()\n",
    "\n",
    "# Inputs\n",
    "x = neural_net_image_input((32, 32, 3))\n",
    "y = neural_net_label_input(10)\n",
    "keep_prob = neural_net_keep_prob_input()\n",
    "\n",
    "# Model\n",
    "logits = conv_net(x, keep_prob)\n",
    "\n",
    "# Name logits Tensor, so that is can be loaded from disk after training\n",
    "logits = tf.identity(logits, name='logits')\n",
    "\n",
    "# Loss and Optimizer\n",
    "cost = tf.reduce_mean(tf.nn.softmax_cross_entropy_with_logits(logits=logits, labels=y))\n",
    "optimizer = tf.train.AdamOptimizer().minimize(cost)\n",
    "\n",
    "# Accuracy\n",
    "correct_pred = tf.equal(tf.argmax(logits, 1), tf.argmax(y, 1))\n",
    "accuracy = tf.reduce_mean(tf.cast(correct_pred, tf.float32), name='accuracy')\n",
    "\n",
    "tests.test_conv_net(conv_net)"
   ]
  },
  {
   "cell_type": "markdown",
   "metadata": {},
   "source": [
    "## Train the Neural Network\n",
    "### Single Optimization\n",
    "Implement the function `train_neural_network` to do a single optimization.  The optimization should use `optimizer` to optimize in `session` with a `feed_dict` of the following:\n",
    "* `x` for image input\n",
    "* `y` for labels\n",
    "* `keep_prob` for keep probability for dropout\n",
    "\n",
    "This function will be called for each batch, so `tf.global_variables_initializer()` has already been called.\n",
    "\n",
    "Note: Nothing needs to be returned. This function is only optimizing the neural network."
   ]
  },
  {
   "cell_type": "code",
   "execution_count": 119,
   "metadata": {
    "collapsed": false
   },
   "outputs": [
    {
     "name": "stdout",
     "output_type": "stream",
     "text": [
      "Tests Passed\n"
     ]
    }
   ],
   "source": [
    "def train_neural_network(session, optimizer, keep_probability, feature_batch, label_batch):\n",
    "    \"\"\"\n",
    "    Optimize the session on a batch of images and labels\n",
    "    : session: Current TensorFlow session\n",
    "    : optimizer: TensorFlow optimizer function\n",
    "    : keep_probability: keep probability\n",
    "    : feature_batch: Batch of Numpy image data\n",
    "    : label_batch: Batch of Numpy label data\n",
    "    \"\"\"\n",
    "    # TODO: Implement Function\n",
    "    session.run(optimizer, feed_dict={\n",
    "        x: feature_batch,\n",
    "        y: label_batch,\n",
    "        keep_prob: keep_probability\n",
    "    })\n",
    "\n",
    "\n",
    "\"\"\"\n",
    "DON'T MODIFY ANYTHING IN THIS CELL THAT IS BELOW THIS LINE\n",
    "\"\"\"\n",
    "tests.test_train_nn(train_neural_network)"
   ]
  },
  {
   "cell_type": "markdown",
   "metadata": {},
   "source": [
    "### Show Stats\n",
    "Implement the function `print_stats` to print loss and validation accuracy.  Use the global variables `valid_features` and `valid_labels` to calculate validation accuracy.  Use a keep probability of `1.0` to calculate the loss and validation accuracy."
   ]
  },
  {
   "cell_type": "code",
   "execution_count": 120,
   "metadata": {
    "collapsed": false
   },
   "outputs": [],
   "source": [
    "def print_stats(session, feature_batch, label_batch, cost, accuracy):\n",
    "    \"\"\"\n",
    "    Print information about loss and validation accuracy\n",
    "    : session: Current TensorFlow session\n",
    "    : feature_batch: Batch of Numpy image data\n",
    "    : label_batch: Batch of Numpy label data\n",
    "    : cost: TensorFlow cost function\n",
    "    : accuracy: TensorFlow accuracy function\n",
    "    \"\"\"\n",
    "     # TODO: Implement Function\n",
    "    loss = session.run(cost, feed_dict={\n",
    "        x: feature_batch,\n",
    "        y: label_batch,\n",
    "        keep_prob: 1.\n",
    "    })\n",
    "    \n",
    "    valid_accuracy = session.run(accuracy, feed_dict={\n",
    "        x: valid_features,\n",
    "        y: valid_labels,\n",
    "        keep_prob: 1.\n",
    "    })\n",
    "\n",
    "    print('Loss: {:>10.4f} Validation Accuracy: {:.6f}'.format(loss, valid_accuracy))"
   ]
  },
  {
   "cell_type": "markdown",
   "metadata": {},
   "source": [
    "### Hyperparameters\n",
    "Tune the following parameters:\n",
    "* Set `epochs` to the number of iterations until the network stops learning or start overfitting\n",
    "* Set `batch_size` to the highest number that your machine has memory for.  Most people set them to common sizes of memory:\n",
    " * 64\n",
    " * 128\n",
    " * 256\n",
    " * ...\n",
    "* Set `keep_probability` to the probability of keeping a node using dropout"
   ]
  },
  {
   "cell_type": "code",
   "execution_count": 121,
   "metadata": {
    "collapsed": true
   },
   "outputs": [],
   "source": [
    "# TODO: Tune Parameters\n",
    "epochs = 52\n",
    "batch_size = 256\n",
    "keep_probability = 0.6"
   ]
  },
  {
   "cell_type": "markdown",
   "metadata": {},
   "source": [
    "### Train on a Single CIFAR-10 Batch\n",
    "Instead of training the neural network on all the CIFAR-10 batches of data, let's use a single batch. This should save time while you iterate on the model to get a better accuracy.  Once the final validation accuracy is 50% or greater, run the model on all the data in the next section."
   ]
  },
  {
   "cell_type": "code",
   "execution_count": 125,
   "metadata": {
    "collapsed": false
   },
   "outputs": [
    {
     "name": "stdout",
     "output_type": "stream",
     "text": [
      "Checking the Training on a Single Batch...\n",
      "Epoch  1, CIFAR-10 Batch 1:  Loss:     2.1727 Validation Accuracy: 0.289000\n",
      "Epoch  2, CIFAR-10 Batch 1:  Loss:     2.0412 Validation Accuracy: 0.354800\n",
      "Epoch  3, CIFAR-10 Batch 1:  Loss:     1.8259 Validation Accuracy: 0.401200\n",
      "Epoch  4, CIFAR-10 Batch 1:  Loss:     1.6586 Validation Accuracy: 0.427600\n",
      "Epoch  5, CIFAR-10 Batch 1:  Loss:     1.5224 Validation Accuracy: 0.444600\n",
      "Epoch  6, CIFAR-10 Batch 1:  Loss:     1.4415 Validation Accuracy: 0.454000\n",
      "Epoch  7, CIFAR-10 Batch 1:  Loss:     1.3422 Validation Accuracy: 0.476200\n",
      "Epoch  8, CIFAR-10 Batch 1:  Loss:     1.2597 Validation Accuracy: 0.485600\n",
      "Epoch  9, CIFAR-10 Batch 1:  Loss:     1.1649 Validation Accuracy: 0.485200\n",
      "Epoch 10, CIFAR-10 Batch 1:  Loss:     1.1104 Validation Accuracy: 0.500000\n",
      "Epoch 11, CIFAR-10 Batch 1:  Loss:     1.1066 Validation Accuracy: 0.488800\n",
      "Epoch 12, CIFAR-10 Batch 1:  Loss:     1.0059 Validation Accuracy: 0.506800\n",
      "Epoch 13, CIFAR-10 Batch 1:  Loss:     0.8987 Validation Accuracy: 0.526800\n",
      "Epoch 14, CIFAR-10 Batch 1:  Loss:     0.8528 Validation Accuracy: 0.518800\n",
      "Epoch 15, CIFAR-10 Batch 1:  Loss:     0.7929 Validation Accuracy: 0.531200\n",
      "Epoch 16, CIFAR-10 Batch 1:  Loss:     0.7865 Validation Accuracy: 0.532000\n",
      "Epoch 17, CIFAR-10 Batch 1:  Loss:     0.6923 Validation Accuracy: 0.543000\n",
      "Epoch 18, CIFAR-10 Batch 1:  Loss:     0.6354 Validation Accuracy: 0.535800\n",
      "Epoch 19, CIFAR-10 Batch 1:  Loss:     0.6135 Validation Accuracy: 0.546800\n",
      "Epoch 20, CIFAR-10 Batch 1:  Loss:     0.6181 Validation Accuracy: 0.535000\n",
      "Epoch 21, CIFAR-10 Batch 1:  Loss:     0.6121 Validation Accuracy: 0.531000\n",
      "Epoch 22, CIFAR-10 Batch 1:  Loss:     0.5331 Validation Accuracy: 0.552200\n",
      "Epoch 23, CIFAR-10 Batch 1:  Loss:     0.4934 Validation Accuracy: 0.548600\n",
      "Epoch 24, CIFAR-10 Batch 1:  Loss:     0.4756 Validation Accuracy: 0.555200\n",
      "Epoch 25, CIFAR-10 Batch 1:  Loss:     0.4691 Validation Accuracy: 0.560200\n",
      "Epoch 26, CIFAR-10 Batch 1:  Loss:     0.4228 Validation Accuracy: 0.566800\n",
      "Epoch 27, CIFAR-10 Batch 1:  Loss:     0.4097 Validation Accuracy: 0.558600\n",
      "Epoch 28, CIFAR-10 Batch 1:  Loss:     0.3809 Validation Accuracy: 0.571000\n",
      "Epoch 29, CIFAR-10 Batch 1:  Loss:     0.3774 Validation Accuracy: 0.566800\n",
      "Epoch 30, CIFAR-10 Batch 1:  Loss:     0.3437 Validation Accuracy: 0.570600\n",
      "Epoch 31, CIFAR-10 Batch 1:  Loss:     0.3130 Validation Accuracy: 0.565400\n",
      "Epoch 32, CIFAR-10 Batch 1:  Loss:     0.2982 Validation Accuracy: 0.568400\n",
      "Epoch 33, CIFAR-10 Batch 1:  Loss:     0.2624 Validation Accuracy: 0.576000\n",
      "Epoch 34, CIFAR-10 Batch 1:  Loss:     0.2821 Validation Accuracy: 0.573400\n",
      "Epoch 35, CIFAR-10 Batch 1:  Loss:     0.2557 Validation Accuracy: 0.571000\n",
      "Epoch 36, CIFAR-10 Batch 1:  Loss:     0.2362 Validation Accuracy: 0.580600\n",
      "Epoch 37, CIFAR-10 Batch 1:  Loss:     0.2268 Validation Accuracy: 0.575600\n",
      "Epoch 38, CIFAR-10 Batch 1:  Loss:     0.2218 Validation Accuracy: 0.579000\n",
      "Epoch 39, CIFAR-10 Batch 1:  Loss:     0.2000 Validation Accuracy: 0.582000\n",
      "Epoch 40, CIFAR-10 Batch 1:  Loss:     0.1920 Validation Accuracy: 0.581200\n",
      "Epoch 41, CIFAR-10 Batch 1:  Loss:     0.1918 Validation Accuracy: 0.571800\n",
      "Epoch 42, CIFAR-10 Batch 1:  Loss:     0.1755 Validation Accuracy: 0.585200\n",
      "Epoch 43, CIFAR-10 Batch 1:  Loss:     0.1766 Validation Accuracy: 0.573200\n",
      "Epoch 44, CIFAR-10 Batch 1:  Loss:     0.1587 Validation Accuracy: 0.580000\n",
      "Epoch 45, CIFAR-10 Batch 1:  Loss:     0.1732 Validation Accuracy: 0.568800\n",
      "Epoch 46, CIFAR-10 Batch 1:  Loss:     0.1376 Validation Accuracy: 0.578800\n",
      "Epoch 47, CIFAR-10 Batch 1:  Loss:     0.1501 Validation Accuracy: 0.579200\n",
      "Epoch 48, CIFAR-10 Batch 1:  Loss:     0.1989 Validation Accuracy: 0.571600\n",
      "Epoch 49, CIFAR-10 Batch 1:  Loss:     0.1436 Validation Accuracy: 0.590800\n",
      "Epoch 50, CIFAR-10 Batch 1:  Loss:     0.1313 Validation Accuracy: 0.582400\n",
      "Epoch 51, CIFAR-10 Batch 1:  Loss:     0.1316 Validation Accuracy: 0.564800\n",
      "Epoch 52, CIFAR-10 Batch 1:  Loss:     0.1209 Validation Accuracy: 0.576600\n"
     ]
    }
   ],
   "source": [
    "\"\"\"\n",
    "DON'T MODIFY ANYTHING IN THIS CELL\n",
    "\"\"\"\n",
    "print('Checking the Training on a Single Batch...')\n",
    "with tf.Session() as sess:\n",
    "    # Initializing the variables\n",
    "    sess.run(tf.global_variables_initializer())\n",
    "    \n",
    "    # Training cycle\n",
    "    for epoch in range(epochs):\n",
    "        batch_i = 1\n",
    "        for batch_features, batch_labels in helper.load_preprocess_training_batch(batch_i, batch_size):\n",
    "            train_neural_network(sess, optimizer, keep_probability, batch_features, batch_labels)\n",
    "        print('Epoch {:>2}, CIFAR-10 Batch {}:  '.format(epoch + 1, batch_i), end='')\n",
    "        print_stats(sess, batch_features, batch_labels, cost, accuracy)"
   ]
  },
  {
   "cell_type": "markdown",
   "metadata": {},
   "source": [
    "### Fully Train the Model\n",
    "Now that you got a good accuracy with a single CIFAR-10 batch, try it with all five batches."
   ]
  },
  {
   "cell_type": "code",
   "execution_count": 127,
   "metadata": {
    "collapsed": false
   },
   "outputs": [
    {
     "name": "stdout",
     "output_type": "stream",
     "text": [
      "Training...\n",
      "Epoch  1, CIFAR-10 Batch 1:  Loss:     2.1349 Validation Accuracy: 0.304600\n",
      "Epoch  1, CIFAR-10 Batch 2:  Loss:     1.8157 Validation Accuracy: 0.357200\n",
      "Epoch  1, CIFAR-10 Batch 3:  Loss:     1.5847 Validation Accuracy: 0.382800\n",
      "Epoch  1, CIFAR-10 Batch 4:  Loss:     1.6263 Validation Accuracy: 0.417400\n",
      "Epoch  1, CIFAR-10 Batch 5:  Loss:     1.6355 Validation Accuracy: 0.416000\n",
      "Epoch  2, CIFAR-10 Batch 1:  Loss:     1.7852 Validation Accuracy: 0.446800\n",
      "Epoch  2, CIFAR-10 Batch 2:  Loss:     1.5538 Validation Accuracy: 0.460800\n",
      "Epoch  2, CIFAR-10 Batch 3:  Loss:     1.2366 Validation Accuracy: 0.440600\n",
      "Epoch  2, CIFAR-10 Batch 4:  Loss:     1.3925 Validation Accuracy: 0.477000\n",
      "Epoch  2, CIFAR-10 Batch 5:  Loss:     1.4145 Validation Accuracy: 0.484400\n",
      "Epoch  3, CIFAR-10 Batch 1:  Loss:     1.4654 Validation Accuracy: 0.496200\n",
      "Epoch  3, CIFAR-10 Batch 2:  Loss:     1.2835 Validation Accuracy: 0.496200\n",
      "Epoch  3, CIFAR-10 Batch 3:  Loss:     1.0912 Validation Accuracy: 0.484800\n",
      "Epoch  3, CIFAR-10 Batch 4:  Loss:     1.2360 Validation Accuracy: 0.525400\n",
      "Epoch  3, CIFAR-10 Batch 5:  Loss:     1.2481 Validation Accuracy: 0.527800\n",
      "Epoch  4, CIFAR-10 Batch 1:  Loss:     1.2999 Validation Accuracy: 0.534400\n",
      "Epoch  4, CIFAR-10 Batch 2:  Loss:     1.1881 Validation Accuracy: 0.537400\n",
      "Epoch  4, CIFAR-10 Batch 3:  Loss:     0.9844 Validation Accuracy: 0.517000\n",
      "Epoch  4, CIFAR-10 Batch 4:  Loss:     1.1021 Validation Accuracy: 0.536000\n",
      "Epoch  4, CIFAR-10 Batch 5:  Loss:     1.1332 Validation Accuracy: 0.551400\n",
      "Epoch  5, CIFAR-10 Batch 1:  Loss:     1.1768 Validation Accuracy: 0.543200\n",
      "Epoch  5, CIFAR-10 Batch 2:  Loss:     1.0751 Validation Accuracy: 0.558800\n",
      "Epoch  5, CIFAR-10 Batch 3:  Loss:     0.8859 Validation Accuracy: 0.532200\n",
      "Epoch  5, CIFAR-10 Batch 4:  Loss:     1.0101 Validation Accuracy: 0.567200\n",
      "Epoch  5, CIFAR-10 Batch 5:  Loss:     1.0324 Validation Accuracy: 0.573000\n",
      "Epoch  6, CIFAR-10 Batch 1:  Loss:     1.0551 Validation Accuracy: 0.557400\n",
      "Epoch  6, CIFAR-10 Batch 2:  Loss:     0.9534 Validation Accuracy: 0.569400\n",
      "Epoch  6, CIFAR-10 Batch 3:  Loss:     0.7510 Validation Accuracy: 0.571400\n",
      "Epoch  6, CIFAR-10 Batch 4:  Loss:     0.9032 Validation Accuracy: 0.575200\n",
      "Epoch  6, CIFAR-10 Batch 5:  Loss:     0.9644 Validation Accuracy: 0.581800\n",
      "Epoch  7, CIFAR-10 Batch 1:  Loss:     0.9840 Validation Accuracy: 0.573800\n",
      "Epoch  7, CIFAR-10 Batch 2:  Loss:     0.8538 Validation Accuracy: 0.591200\n",
      "Epoch  7, CIFAR-10 Batch 3:  Loss:     0.7018 Validation Accuracy: 0.566800\n",
      "Epoch  7, CIFAR-10 Batch 4:  Loss:     0.8339 Validation Accuracy: 0.588800\n",
      "Epoch  7, CIFAR-10 Batch 5:  Loss:     0.8659 Validation Accuracy: 0.599600\n",
      "Epoch  8, CIFAR-10 Batch 1:  Loss:     0.8803 Validation Accuracy: 0.596200\n",
      "Epoch  8, CIFAR-10 Batch 2:  Loss:     0.8220 Validation Accuracy: 0.579600\n",
      "Epoch  8, CIFAR-10 Batch 3:  Loss:     0.6005 Validation Accuracy: 0.610400\n",
      "Epoch  8, CIFAR-10 Batch 4:  Loss:     0.7385 Validation Accuracy: 0.608200\n",
      "Epoch  8, CIFAR-10 Batch 5:  Loss:     0.7962 Validation Accuracy: 0.614800\n",
      "Epoch  9, CIFAR-10 Batch 1:  Loss:     0.7964 Validation Accuracy: 0.606800\n",
      "Epoch  9, CIFAR-10 Batch 2:  Loss:     0.7167 Validation Accuracy: 0.606800\n",
      "Epoch  9, CIFAR-10 Batch 3:  Loss:     0.5155 Validation Accuracy: 0.619800\n",
      "Epoch  9, CIFAR-10 Batch 4:  Loss:     0.6481 Validation Accuracy: 0.624600\n",
      "Epoch  9, CIFAR-10 Batch 5:  Loss:     0.6946 Validation Accuracy: 0.630600\n",
      "Epoch 10, CIFAR-10 Batch 1:  Loss:     0.7343 Validation Accuracy: 0.601200\n",
      "Epoch 10, CIFAR-10 Batch 2:  Loss:     0.6326 Validation Accuracy: 0.620200\n",
      "Epoch 10, CIFAR-10 Batch 3:  Loss:     0.4810 Validation Accuracy: 0.625200\n",
      "Epoch 10, CIFAR-10 Batch 4:  Loss:     0.6233 Validation Accuracy: 0.627600\n",
      "Epoch 10, CIFAR-10 Batch 5:  Loss:     0.6497 Validation Accuracy: 0.637000\n",
      "Epoch 11, CIFAR-10 Batch 1:  Loss:     0.7170 Validation Accuracy: 0.622200\n",
      "Epoch 11, CIFAR-10 Batch 2:  Loss:     0.6025 Validation Accuracy: 0.632600\n",
      "Epoch 11, CIFAR-10 Batch 3:  Loss:     0.4597 Validation Accuracy: 0.629200\n",
      "Epoch 11, CIFAR-10 Batch 4:  Loss:     0.5852 Validation Accuracy: 0.625600\n",
      "Epoch 11, CIFAR-10 Batch 5:  Loss:     0.6331 Validation Accuracy: 0.638400\n",
      "Epoch 12, CIFAR-10 Batch 1:  Loss:     0.6430 Validation Accuracy: 0.622800\n",
      "Epoch 12, CIFAR-10 Batch 2:  Loss:     0.5788 Validation Accuracy: 0.636800\n",
      "Epoch 12, CIFAR-10 Batch 3:  Loss:     0.3844 Validation Accuracy: 0.635400\n",
      "Epoch 12, CIFAR-10 Batch 4:  Loss:     0.5413 Validation Accuracy: 0.626800\n",
      "Epoch 12, CIFAR-10 Batch 5:  Loss:     0.5939 Validation Accuracy: 0.645400\n",
      "Epoch 13, CIFAR-10 Batch 1:  Loss:     0.6410 Validation Accuracy: 0.637600\n",
      "Epoch 13, CIFAR-10 Batch 2:  Loss:     0.5433 Validation Accuracy: 0.641800\n",
      "Epoch 13, CIFAR-10 Batch 3:  Loss:     0.3578 Validation Accuracy: 0.632800\n",
      "Epoch 13, CIFAR-10 Batch 4:  Loss:     0.5062 Validation Accuracy: 0.634800\n",
      "Epoch 13, CIFAR-10 Batch 5:  Loss:     0.5447 Validation Accuracy: 0.637800\n",
      "Epoch 14, CIFAR-10 Batch 1:  Loss:     0.5620 Validation Accuracy: 0.645400\n",
      "Epoch 14, CIFAR-10 Batch 2:  Loss:     0.4882 Validation Accuracy: 0.646800\n",
      "Epoch 14, CIFAR-10 Batch 3:  Loss:     0.3131 Validation Accuracy: 0.646000\n",
      "Epoch 14, CIFAR-10 Batch 4:  Loss:     0.4611 Validation Accuracy: 0.637800\n",
      "Epoch 14, CIFAR-10 Batch 5:  Loss:     0.4808 Validation Accuracy: 0.658000\n",
      "Epoch 15, CIFAR-10 Batch 1:  Loss:     0.5272 Validation Accuracy: 0.650200\n",
      "Epoch 15, CIFAR-10 Batch 2:  Loss:     0.4853 Validation Accuracy: 0.656400\n",
      "Epoch 15, CIFAR-10 Batch 3:  Loss:     0.3203 Validation Accuracy: 0.656600\n",
      "Epoch 15, CIFAR-10 Batch 4:  Loss:     0.4594 Validation Accuracy: 0.638600\n",
      "Epoch 15, CIFAR-10 Batch 5:  Loss:     0.4595 Validation Accuracy: 0.659600\n",
      "Epoch 16, CIFAR-10 Batch 1:  Loss:     0.5113 Validation Accuracy: 0.645400\n",
      "Epoch 16, CIFAR-10 Batch 2:  Loss:     0.4577 Validation Accuracy: 0.657800\n",
      "Epoch 16, CIFAR-10 Batch 3:  Loss:     0.2847 Validation Accuracy: 0.654200\n",
      "Epoch 16, CIFAR-10 Batch 4:  Loss:     0.4155 Validation Accuracy: 0.642400\n",
      "Epoch 16, CIFAR-10 Batch 5:  Loss:     0.4644 Validation Accuracy: 0.650800\n",
      "Epoch 17, CIFAR-10 Batch 1:  Loss:     0.4468 Validation Accuracy: 0.649400\n",
      "Epoch 17, CIFAR-10 Batch 2:  Loss:     0.4043 Validation Accuracy: 0.663000\n",
      "Epoch 17, CIFAR-10 Batch 3:  Loss:     0.2574 Validation Accuracy: 0.658200\n",
      "Epoch 17, CIFAR-10 Batch 4:  Loss:     0.4000 Validation Accuracy: 0.655400\n",
      "Epoch 17, CIFAR-10 Batch 5:  Loss:     0.4145 Validation Accuracy: 0.646200\n",
      "Epoch 18, CIFAR-10 Batch 1:  Loss:     0.4215 Validation Accuracy: 0.660600\n",
      "Epoch 18, CIFAR-10 Batch 2:  Loss:     0.3715 Validation Accuracy: 0.667600\n",
      "Epoch 18, CIFAR-10 Batch 3:  Loss:     0.2441 Validation Accuracy: 0.660800\n",
      "Epoch 18, CIFAR-10 Batch 4:  Loss:     0.3534 Validation Accuracy: 0.663000\n",
      "Epoch 18, CIFAR-10 Batch 5:  Loss:     0.3838 Validation Accuracy: 0.661400\n",
      "Epoch 19, CIFAR-10 Batch 1:  Loss:     0.3933 Validation Accuracy: 0.666600\n",
      "Epoch 19, CIFAR-10 Batch 2:  Loss:     0.3699 Validation Accuracy: 0.659400\n",
      "Epoch 19, CIFAR-10 Batch 3:  Loss:     0.2208 Validation Accuracy: 0.659400\n",
      "Epoch 19, CIFAR-10 Batch 4:  Loss:     0.3469 Validation Accuracy: 0.649600\n",
      "Epoch 19, CIFAR-10 Batch 5:  Loss:     0.3506 Validation Accuracy: 0.663600\n",
      "Epoch 20, CIFAR-10 Batch 1:  Loss:     0.3757 Validation Accuracy: 0.659600\n",
      "Epoch 20, CIFAR-10 Batch 2:  Loss:     0.3244 Validation Accuracy: 0.666000\n",
      "Epoch 20, CIFAR-10 Batch 3:  Loss:     0.2410 Validation Accuracy: 0.664600\n",
      "Epoch 20, CIFAR-10 Batch 4:  Loss:     0.3268 Validation Accuracy: 0.666800\n",
      "Epoch 20, CIFAR-10 Batch 5:  Loss:     0.3404 Validation Accuracy: 0.659400\n",
      "Epoch 21, CIFAR-10 Batch 1:  Loss:     0.3569 Validation Accuracy: 0.666200\n",
      "Epoch 21, CIFAR-10 Batch 2:  Loss:     0.3144 Validation Accuracy: 0.672000\n",
      "Epoch 21, CIFAR-10 Batch 3:  Loss:     0.2061 Validation Accuracy: 0.667200\n",
      "Epoch 21, CIFAR-10 Batch 4:  Loss:     0.3074 Validation Accuracy: 0.664000\n",
      "Epoch 21, CIFAR-10 Batch 5:  Loss:     0.2958 Validation Accuracy: 0.664800\n",
      "Epoch 22, CIFAR-10 Batch 1:  Loss:     0.3352 Validation Accuracy: 0.653600\n",
      "Epoch 22, CIFAR-10 Batch 2:  Loss:     0.3218 Validation Accuracy: 0.675600\n",
      "Epoch 22, CIFAR-10 Batch 3:  Loss:     0.2015 Validation Accuracy: 0.664200\n",
      "Epoch 22, CIFAR-10 Batch 4:  Loss:     0.2860 Validation Accuracy: 0.674400\n",
      "Epoch 22, CIFAR-10 Batch 5:  Loss:     0.3050 Validation Accuracy: 0.663800\n",
      "Epoch 23, CIFAR-10 Batch 1:  Loss:     0.3444 Validation Accuracy: 0.649600\n",
      "Epoch 23, CIFAR-10 Batch 2:  Loss:     0.2960 Validation Accuracy: 0.681200\n",
      "Epoch 23, CIFAR-10 Batch 3:  Loss:     0.2136 Validation Accuracy: 0.652600\n",
      "Epoch 23, CIFAR-10 Batch 4:  Loss:     0.2551 Validation Accuracy: 0.679400\n",
      "Epoch 23, CIFAR-10 Batch 5:  Loss:     0.2795 Validation Accuracy: 0.661800\n",
      "Epoch 24, CIFAR-10 Batch 1:  Loss:     0.3725 Validation Accuracy: 0.639800\n",
      "Epoch 24, CIFAR-10 Batch 2:  Loss:     0.2882 Validation Accuracy: 0.677200\n",
      "Epoch 24, CIFAR-10 Batch 3:  Loss:     0.2044 Validation Accuracy: 0.669600\n",
      "Epoch 24, CIFAR-10 Batch 4:  Loss:     0.2765 Validation Accuracy: 0.676000\n",
      "Epoch 24, CIFAR-10 Batch 5:  Loss:     0.2841 Validation Accuracy: 0.675200\n",
      "Epoch 25, CIFAR-10 Batch 1:  Loss:     0.3575 Validation Accuracy: 0.658200\n",
      "Epoch 25, CIFAR-10 Batch 2:  Loss:     0.2771 Validation Accuracy: 0.680800\n",
      "Epoch 25, CIFAR-10 Batch 3:  Loss:     0.1970 Validation Accuracy: 0.666000\n",
      "Epoch 25, CIFAR-10 Batch 4:  Loss:     0.2360 Validation Accuracy: 0.672000\n",
      "Epoch 25, CIFAR-10 Batch 5:  Loss:     0.2366 Validation Accuracy: 0.673800\n",
      "Epoch 26, CIFAR-10 Batch 1:  Loss:     0.3109 Validation Accuracy: 0.660400\n",
      "Epoch 26, CIFAR-10 Batch 2:  Loss:     0.2614 Validation Accuracy: 0.684600\n",
      "Epoch 26, CIFAR-10 Batch 3:  Loss:     0.1747 Validation Accuracy: 0.661600\n",
      "Epoch 26, CIFAR-10 Batch 4:  Loss:     0.2097 Validation Accuracy: 0.677000\n",
      "Epoch 26, CIFAR-10 Batch 5:  Loss:     0.2295 Validation Accuracy: 0.682000\n",
      "Epoch 27, CIFAR-10 Batch 1:  Loss:     0.2658 Validation Accuracy: 0.665400\n",
      "Epoch 27, CIFAR-10 Batch 2:  Loss:     0.2507 Validation Accuracy: 0.681000\n",
      "Epoch 27, CIFAR-10 Batch 3:  Loss:     0.1871 Validation Accuracy: 0.669600\n",
      "Epoch 27, CIFAR-10 Batch 4:  Loss:     0.2068 Validation Accuracy: 0.673800\n",
      "Epoch 27, CIFAR-10 Batch 5:  Loss:     0.2163 Validation Accuracy: 0.681000\n",
      "Epoch 28, CIFAR-10 Batch 1:  Loss:     0.2611 Validation Accuracy: 0.668000\n",
      "Epoch 28, CIFAR-10 Batch 2:  Loss:     0.2444 Validation Accuracy: 0.677400\n",
      "Epoch 28, CIFAR-10 Batch 3:  Loss:     0.1484 Validation Accuracy: 0.678200\n",
      "Epoch 28, CIFAR-10 Batch 4:  Loss:     0.2051 Validation Accuracy: 0.675600\n",
      "Epoch 28, CIFAR-10 Batch 5:  Loss:     0.2015 Validation Accuracy: 0.684600\n",
      "Epoch 29, CIFAR-10 Batch 1:  Loss:     0.2725 Validation Accuracy: 0.659600\n",
      "Epoch 29, CIFAR-10 Batch 2:  Loss:     0.2531 Validation Accuracy: 0.683800\n",
      "Epoch 29, CIFAR-10 Batch 3:  Loss:     0.1477 Validation Accuracy: 0.670000\n",
      "Epoch 29, CIFAR-10 Batch 4:  Loss:     0.2032 Validation Accuracy: 0.674600\n",
      "Epoch 29, CIFAR-10 Batch 5:  Loss:     0.2173 Validation Accuracy: 0.678800\n",
      "Epoch 30, CIFAR-10 Batch 1:  Loss:     0.2754 Validation Accuracy: 0.657400\n",
      "Epoch 30, CIFAR-10 Batch 2:  Loss:     0.2210 Validation Accuracy: 0.682800\n",
      "Epoch 30, CIFAR-10 Batch 3:  Loss:     0.1402 Validation Accuracy: 0.673600\n",
      "Epoch 30, CIFAR-10 Batch 4:  Loss:     0.1887 Validation Accuracy: 0.678400\n",
      "Epoch 30, CIFAR-10 Batch 5:  Loss:     0.1761 Validation Accuracy: 0.682200\n",
      "Epoch 31, CIFAR-10 Batch 1:  Loss:     0.2355 Validation Accuracy: 0.668800\n",
      "Epoch 31, CIFAR-10 Batch 2:  Loss:     0.2152 Validation Accuracy: 0.684400\n",
      "Epoch 31, CIFAR-10 Batch 3:  Loss:     0.1369 Validation Accuracy: 0.676200\n",
      "Epoch 31, CIFAR-10 Batch 4:  Loss:     0.1606 Validation Accuracy: 0.670800\n",
      "Epoch 31, CIFAR-10 Batch 5:  Loss:     0.1700 Validation Accuracy: 0.669400\n",
      "Epoch 32, CIFAR-10 Batch 1:  Loss:     0.2914 Validation Accuracy: 0.654000\n",
      "Epoch 32, CIFAR-10 Batch 2:  Loss:     0.2223 Validation Accuracy: 0.685800\n",
      "Epoch 32, CIFAR-10 Batch 3:  Loss:     0.1382 Validation Accuracy: 0.669200\n",
      "Epoch 32, CIFAR-10 Batch 4:  Loss:     0.1550 Validation Accuracy: 0.661800\n",
      "Epoch 32, CIFAR-10 Batch 5:  Loss:     0.1572 Validation Accuracy: 0.676200\n",
      "Epoch 33, CIFAR-10 Batch 1:  Loss:     0.2097 Validation Accuracy: 0.680200\n",
      "Epoch 33, CIFAR-10 Batch 2:  Loss:     0.2094 Validation Accuracy: 0.678200\n",
      "Epoch 33, CIFAR-10 Batch 3:  Loss:     0.1346 Validation Accuracy: 0.678000\n",
      "Epoch 33, CIFAR-10 Batch 4:  Loss:     0.1784 Validation Accuracy: 0.668200\n",
      "Epoch 33, CIFAR-10 Batch 5:  Loss:     0.1535 Validation Accuracy: 0.686800\n",
      "Epoch 34, CIFAR-10 Batch 1:  Loss:     0.1941 Validation Accuracy: 0.678800\n",
      "Epoch 34, CIFAR-10 Batch 2:  Loss:     0.2077 Validation Accuracy: 0.681000\n",
      "Epoch 34, CIFAR-10 Batch 3:  Loss:     0.1318 Validation Accuracy: 0.676200\n",
      "Epoch 34, CIFAR-10 Batch 4:  Loss:     0.1879 Validation Accuracy: 0.653400\n",
      "Epoch 34, CIFAR-10 Batch 5:  Loss:     0.1713 Validation Accuracy: 0.686200\n",
      "Epoch 35, CIFAR-10 Batch 1:  Loss:     0.2085 Validation Accuracy: 0.677800\n",
      "Epoch 35, CIFAR-10 Batch 2:  Loss:     0.2032 Validation Accuracy: 0.678200\n",
      "Epoch 35, CIFAR-10 Batch 3:  Loss:     0.1189 Validation Accuracy: 0.677600\n",
      "Epoch 35, CIFAR-10 Batch 4:  Loss:     0.1637 Validation Accuracy: 0.668600\n",
      "Epoch 35, CIFAR-10 Batch 5:  Loss:     0.1426 Validation Accuracy: 0.689000\n",
      "Epoch 36, CIFAR-10 Batch 1:  Loss:     0.1745 Validation Accuracy: 0.682600\n",
      "Epoch 36, CIFAR-10 Batch 2:  Loss:     0.1917 Validation Accuracy: 0.683000\n",
      "Epoch 36, CIFAR-10 Batch 3:  Loss:     0.1317 Validation Accuracy: 0.642800\n",
      "Epoch 36, CIFAR-10 Batch 4:  Loss:     0.1490 Validation Accuracy: 0.672000\n",
      "Epoch 36, CIFAR-10 Batch 5:  Loss:     0.1524 Validation Accuracy: 0.686000\n",
      "Epoch 37, CIFAR-10 Batch 1:  Loss:     0.1676 Validation Accuracy: 0.680800\n",
      "Epoch 37, CIFAR-10 Batch 2:  Loss:     0.2069 Validation Accuracy: 0.676200\n",
      "Epoch 37, CIFAR-10 Batch 3:  Loss:     0.1090 Validation Accuracy: 0.663600\n",
      "Epoch 37, CIFAR-10 Batch 4:  Loss:     0.1510 Validation Accuracy: 0.664400\n",
      "Epoch 37, CIFAR-10 Batch 5:  Loss:     0.1399 Validation Accuracy: 0.688200\n",
      "Epoch 38, CIFAR-10 Batch 1:  Loss:     0.1525 Validation Accuracy: 0.681600\n",
      "Epoch 38, CIFAR-10 Batch 2:  Loss:     0.1995 Validation Accuracy: 0.679600\n",
      "Epoch 38, CIFAR-10 Batch 3:  Loss:     0.1136 Validation Accuracy: 0.653000\n",
      "Epoch 38, CIFAR-10 Batch 4:  Loss:     0.1460 Validation Accuracy: 0.670600\n",
      "Epoch 38, CIFAR-10 Batch 5:  Loss:     0.1306 Validation Accuracy: 0.684000\n",
      "Epoch 39, CIFAR-10 Batch 1:  Loss:     0.1593 Validation Accuracy: 0.679600\n",
      "Epoch 39, CIFAR-10 Batch 2:  Loss:     0.1802 Validation Accuracy: 0.678000\n",
      "Epoch 39, CIFAR-10 Batch 3:  Loss:     0.1171 Validation Accuracy: 0.667400\n",
      "Epoch 39, CIFAR-10 Batch 4:  Loss:     0.1398 Validation Accuracy: 0.664600\n",
      "Epoch 39, CIFAR-10 Batch 5:  Loss:     0.1457 Validation Accuracy: 0.686200\n",
      "Epoch 40, CIFAR-10 Batch 1:  Loss:     0.1513 Validation Accuracy: 0.677600\n",
      "Epoch 40, CIFAR-10 Batch 2:  Loss:     0.2021 Validation Accuracy: 0.675400\n",
      "Epoch 40, CIFAR-10 Batch 3:  Loss:     0.0891 Validation Accuracy: 0.678600\n",
      "Epoch 40, CIFAR-10 Batch 4:  Loss:     0.1177 Validation Accuracy: 0.676800\n",
      "Epoch 40, CIFAR-10 Batch 5:  Loss:     0.1387 Validation Accuracy: 0.689400\n",
      "Epoch 41, CIFAR-10 Batch 1:  Loss:     0.1505 Validation Accuracy: 0.672400\n",
      "Epoch 41, CIFAR-10 Batch 2:  Loss:     0.1628 Validation Accuracy: 0.672400\n",
      "Epoch 41, CIFAR-10 Batch 3:  Loss:     0.0921 Validation Accuracy: 0.672400\n",
      "Epoch 41, CIFAR-10 Batch 4:  Loss:     0.1190 Validation Accuracy: 0.677600\n",
      "Epoch 41, CIFAR-10 Batch 5:  Loss:     0.1273 Validation Accuracy: 0.695600\n",
      "Epoch 42, CIFAR-10 Batch 1:  Loss:     0.1345 Validation Accuracy: 0.678400\n",
      "Epoch 42, CIFAR-10 Batch 2:  Loss:     0.1594 Validation Accuracy: 0.679200\n",
      "Epoch 42, CIFAR-10 Batch 3:  Loss:     0.0943 Validation Accuracy: 0.672200\n",
      "Epoch 42, CIFAR-10 Batch 4:  Loss:     0.1053 Validation Accuracy: 0.675000\n",
      "Epoch 42, CIFAR-10 Batch 5:  Loss:     0.1171 Validation Accuracy: 0.688000\n",
      "Epoch 43, CIFAR-10 Batch 1:  Loss:     0.1424 Validation Accuracy: 0.681200\n",
      "Epoch 43, CIFAR-10 Batch 2:  Loss:     0.1433 Validation Accuracy: 0.676200\n",
      "Epoch 43, CIFAR-10 Batch 3:  Loss:     0.0942 Validation Accuracy: 0.683400\n",
      "Epoch 43, CIFAR-10 Batch 4:  Loss:     0.1178 Validation Accuracy: 0.671400\n",
      "Epoch 43, CIFAR-10 Batch 5:  Loss:     0.1036 Validation Accuracy: 0.680600\n",
      "Epoch 44, CIFAR-10 Batch 1:  Loss:     0.1338 Validation Accuracy: 0.677200\n",
      "Epoch 44, CIFAR-10 Batch 2:  Loss:     0.1384 Validation Accuracy: 0.676200\n",
      "Epoch 44, CIFAR-10 Batch 3:  Loss:     0.0950 Validation Accuracy: 0.674000\n",
      "Epoch 44, CIFAR-10 Batch 4:  Loss:     0.1177 Validation Accuracy: 0.676800\n",
      "Epoch 44, CIFAR-10 Batch 5:  Loss:     0.1222 Validation Accuracy: 0.679000\n",
      "Epoch 45, CIFAR-10 Batch 1:  Loss:     0.1652 Validation Accuracy: 0.669400\n",
      "Epoch 45, CIFAR-10 Batch 2:  Loss:     0.1384 Validation Accuracy: 0.666800\n",
      "Epoch 45, CIFAR-10 Batch 3:  Loss:     0.0886 Validation Accuracy: 0.672000\n",
      "Epoch 45, CIFAR-10 Batch 4:  Loss:     0.1189 Validation Accuracy: 0.675000\n",
      "Epoch 45, CIFAR-10 Batch 5:  Loss:     0.1075 Validation Accuracy: 0.686800\n",
      "Epoch 46, CIFAR-10 Batch 1:  Loss:     0.1393 Validation Accuracy: 0.663200\n",
      "Epoch 46, CIFAR-10 Batch 2:  Loss:     0.1253 Validation Accuracy: 0.661000\n",
      "Epoch 46, CIFAR-10 Batch 3:  Loss:     0.1123 Validation Accuracy: 0.649600\n",
      "Epoch 46, CIFAR-10 Batch 4:  Loss:     0.1264 Validation Accuracy: 0.675400\n",
      "Epoch 46, CIFAR-10 Batch 5:  Loss:     0.1325 Validation Accuracy: 0.667000\n",
      "Epoch 47, CIFAR-10 Batch 1:  Loss:     0.1358 Validation Accuracy: 0.678800\n",
      "Epoch 47, CIFAR-10 Batch 2:  Loss:     0.1082 Validation Accuracy: 0.664000\n",
      "Epoch 47, CIFAR-10 Batch 3:  Loss:     0.0968 Validation Accuracy: 0.661600\n",
      "Epoch 47, CIFAR-10 Batch 4:  Loss:     0.1181 Validation Accuracy: 0.682000\n",
      "Epoch 47, CIFAR-10 Batch 5:  Loss:     0.1156 Validation Accuracy: 0.684400\n",
      "Epoch 48, CIFAR-10 Batch 1:  Loss:     0.1382 Validation Accuracy: 0.678000\n",
      "Epoch 48, CIFAR-10 Batch 2:  Loss:     0.1052 Validation Accuracy: 0.669800\n",
      "Epoch 48, CIFAR-10 Batch 3:  Loss:     0.0874 Validation Accuracy: 0.666600\n",
      "Epoch 48, CIFAR-10 Batch 4:  Loss:     0.1122 Validation Accuracy: 0.677400\n",
      "Epoch 48, CIFAR-10 Batch 5:  Loss:     0.1115 Validation Accuracy: 0.678600\n",
      "Epoch 49, CIFAR-10 Batch 1:  Loss:     0.1139 Validation Accuracy: 0.684000\n",
      "Epoch 49, CIFAR-10 Batch 2:  Loss:     0.1120 Validation Accuracy: 0.661000\n",
      "Epoch 49, CIFAR-10 Batch 3:  Loss:     0.0735 Validation Accuracy: 0.674000\n",
      "Epoch 49, CIFAR-10 Batch 4:  Loss:     0.1055 Validation Accuracy: 0.684200\n",
      "Epoch 49, CIFAR-10 Batch 5:  Loss:     0.1112 Validation Accuracy: 0.677600\n",
      "Epoch 50, CIFAR-10 Batch 1:  Loss:     0.1120 Validation Accuracy: 0.675600\n",
      "Epoch 50, CIFAR-10 Batch 2:  Loss:     0.1120 Validation Accuracy: 0.667400\n",
      "Epoch 50, CIFAR-10 Batch 3:  Loss:     0.0908 Validation Accuracy: 0.665200\n",
      "Epoch 50, CIFAR-10 Batch 4:  Loss:     0.0879 Validation Accuracy: 0.686600\n",
      "Epoch 50, CIFAR-10 Batch 5:  Loss:     0.1044 Validation Accuracy: 0.667400\n",
      "Epoch 51, CIFAR-10 Batch 1:  Loss:     0.1083 Validation Accuracy: 0.675200\n",
      "Epoch 51, CIFAR-10 Batch 2:  Loss:     0.1152 Validation Accuracy: 0.663400\n",
      "Epoch 51, CIFAR-10 Batch 3:  Loss:     0.0683 Validation Accuracy: 0.674800\n",
      "Epoch 51, CIFAR-10 Batch 4:  Loss:     0.0898 Validation Accuracy: 0.685600\n",
      "Epoch 51, CIFAR-10 Batch 5:  Loss:     0.0922 Validation Accuracy: 0.679800\n",
      "Epoch 52, CIFAR-10 Batch 1:  Loss:     0.1019 Validation Accuracy: 0.684200\n",
      "Epoch 52, CIFAR-10 Batch 2:  Loss:     0.0949 Validation Accuracy: 0.667800\n",
      "Epoch 52, CIFAR-10 Batch 3:  Loss:     0.0677 Validation Accuracy: 0.676600\n",
      "Epoch 52, CIFAR-10 Batch 4:  Loss:     0.0856 Validation Accuracy: 0.682400\n",
      "Epoch 52, CIFAR-10 Batch 5:  Loss:     0.0796 Validation Accuracy: 0.682400\n"
     ]
    }
   ],
   "source": [
    "\"\"\"\n",
    "DON'T MODIFY ANYTHING IN THIS CELL\n",
    "\"\"\"\n",
    "save_model_path = './image_classification'\n",
    "\n",
    "print('Training...')\n",
    "with tf.Session() as sess:\n",
    "    # Initializing the variables\n",
    "    sess.run(tf.global_variables_initializer())\n",
    "    \n",
    "    # Training cycle\n",
    "    for epoch in range(epochs):\n",
    "        # Loop over all batches\n",
    "        n_batches = 5\n",
    "        for batch_i in range(1, n_batches + 1):\n",
    "            for batch_features, batch_labels in helper.load_preprocess_training_batch(batch_i, batch_size):\n",
    "                train_neural_network(sess, optimizer, keep_probability, batch_features, batch_labels)\n",
    "            print('Epoch {:>2}, CIFAR-10 Batch {}:  '.format(epoch + 1, batch_i), end='')\n",
    "            print_stats(sess, batch_features, batch_labels, cost, accuracy)\n",
    "            \n",
    "    # Save Model\n",
    "    saver = tf.train.Saver()\n",
    "    save_path = saver.save(sess, save_model_path)"
   ]
  },
  {
   "cell_type": "markdown",
   "metadata": {},
   "source": [
    "# Checkpoint\n",
    "The model has been saved to disk.\n",
    "## Test Model\n",
    "Test your model against the test dataset.  This will be your final accuracy. You should have an accuracy greater than 50%. If you don't, keep tweaking the model architecture and parameters."
   ]
  },
  {
   "cell_type": "code",
   "execution_count": 128,
   "metadata": {
    "collapsed": false
   },
   "outputs": [
    {
     "name": "stdout",
     "output_type": "stream",
     "text": [
      "INFO:tensorflow:Restoring parameters from ./image_classification\n",
      "Testing Accuracy: 0.68994140625\n",
      "\n"
     ]
    },
    {
     "data": {
      "image/png": "[encoded data removed]",
      "text/plain": [
       "<matplotlib.figure.Figure at 0x114d2af98>"
      ]
     },
     "metadata": {
      "image/png": {
       "height": 319,
       "width": 355
      }
     },
     "output_type": "display_data"
    }
   ],
   "source": [
    "\"\"\"\n",
    "DON'T MODIFY ANYTHING IN THIS CELL\n",
    "\"\"\"\n",
    "%matplotlib inline\n",
    "%config InlineBackend.figure_format = 'retina'\n",
    "\n",
    "import tensorflow as tf\n",
    "import pickle\n",
    "import helper\n",
    "import random\n",
    "\n",
    "# Set batch size if not already set\n",
    "try:\n",
    "    if batch_size:\n",
    "        pass\n",
    "except NameError:\n",
    "    batch_size = 64\n",
    "\n",
    "save_model_path = './image_classification'\n",
    "n_samples = 4\n",
    "top_n_predictions = 3\n",
    "\n",
    "def test_model():\n",
    "    \"\"\"\n",
    "    Test the saved model against the test dataset\n",
    "    \"\"\"\n",
    "\n",
    "    test_features, test_labels = pickle.load(open('preprocess_training.p', mode='rb'))\n",
    "    loaded_graph = tf.Graph()\n",
    "\n",
    "    with tf.Session(graph=loaded_graph) as sess:\n",
    "        # Load model\n",
    "        loader = tf.train.import_meta_graph(save_model_path + '.meta')\n",
    "        loader.restore(sess, save_model_path)\n",
    "\n",
    "        # Get Tensors from loaded model\n",
    "        loaded_x = loaded_graph.get_tensor_by_name('x:0')\n",
    "        loaded_y = loaded_graph.get_tensor_by_name('y:0')\n",
    "        loaded_keep_prob = loaded_graph.get_tensor_by_name('keep_prob:0')\n",
    "        loaded_logits = loaded_graph.get_tensor_by_name('logits:0')\n",
    "        loaded_acc = loaded_graph.get_tensor_by_name('accuracy:0')\n",
    "        \n",
    "        # Get accuracy in batches for memory limitations\n",
    "        test_batch_acc_total = 0\n",
    "        test_batch_count = 0\n",
    "        \n",
    "        for train_feature_batch, train_label_batch in helper.batch_features_labels(test_features, test_labels, batch_size):\n",
    "            test_batch_acc_total += sess.run(\n",
    "                loaded_acc,\n",
    "                feed_dict={loaded_x: train_feature_batch, loaded_y: train_label_batch, loaded_keep_prob: 1.0})\n",
    "            test_batch_count += 1\n",
    "\n",
    "        print('Testing Accuracy: {}\\n'.format(test_batch_acc_total/test_batch_count))\n",
    "\n",
    "        # Print Random Samples\n",
    "        random_test_features, random_test_labels = tuple(zip(*random.sample(list(zip(test_features, test_labels)), n_samples)))\n",
    "        random_test_predictions = sess.run(\n",
    "            tf.nn.top_k(tf.nn.softmax(loaded_logits), top_n_predictions),\n",
    "            feed_dict={loaded_x: random_test_features, loaded_y: random_test_labels, loaded_keep_prob: 1.0})\n",
    "        helper.display_image_predictions(random_test_features, random_test_labels, random_test_predictions)\n",
    "\n",
    "\n",
    "test_model()"
   ]
  },
  {
   "cell_type": "markdown",
   "metadata": {},
   "source": [
    "## Why 50-70% Accuracy?\n",
    "You might be wondering why you can't get an accuracy any higher. First things first, 50% isn't bad for a simple CNN.  Pure guessing would get you 10% accuracy. However, you might notice people are getting scores [well above 70%](http://rodrigob.github.io/are_we_there_yet/build/classification_datasets_results.html#43494641522d3130).  That's because we haven't taught you all there is to know about neural networks. We still need to cover a few more techniques.\n",
    "## Submitting This Project\n",
    "When submitting this project, make sure to run all the cells before saving the notebook.  Save the notebook file as \"dlnd_image_classification.ipynb\" and save it as a HTML file under \"File\" -> \"Download as\".  Include the \"helper.py\" and \"problem_unittests.py\" files in your submission."
   ]
  },
  {
   "cell_type": "code",
   "execution_count": null,
   "metadata": {
    "collapsed": true
   },
   "outputs": [],
   "source": []
  }
 ],
 "metadata": {
  "kernelspec": {
   "display_name": "Python 3",
   "language": "python",
   "name": "python3"
  },
  "language_info": {
   "codemirror_mode": {
    "name": "ipython",
    "version": 3
   },
   "file_extension": ".py",
   "mimetype": "text/x-python",
   "name": "python",
   "nbconvert_exporter": "python",
   "pygments_lexer": "ipython3",
   "version": "3.5.4"
  }
 },
 "nbformat": 4,
 "nbformat_minor": 0
}
